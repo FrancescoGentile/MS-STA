{
 "cells": [
  {
   "cell_type": "code",
   "execution_count": 1,
   "metadata": {},
   "outputs": [
    {
     "name": "stderr",
     "output_type": "stream",
     "text": [
      "/home/francesco/anaconda3/envs/mssta/lib/python3.10/site-packages/tqdm/auto.py:22: TqdmWarning: IProgress not found. Please update jupyter and ipywidgets. See https://ipywidgets.readthedocs.io/en/stable/user_install.html\n",
      "  from .autonotebook import tqdm as notebook_tqdm\n"
     ]
    }
   ],
   "source": [
    "import torch\n",
    "from reformer_pytorch import LSHSelfAttention"
   ]
  },
  {
   "cell_type": "code",
   "execution_count": 2,
   "metadata": {},
   "outputs": [],
   "source": [
    "layers = torch.nn.ModuleList()\n",
    "for _ in range(9):\n",
    "    layers.append(LSHSelfAttention(dim=64, bucket_size=25))\n",
    "\n",
    "layers = layers.cuda()"
   ]
  },
  {
   "cell_type": "code",
   "execution_count": 4,
   "metadata": {},
   "outputs": [],
   "source": [
    "torch.cuda.empty_cache()"
   ]
  },
  {
   "cell_type": "code",
   "execution_count": 8,
   "metadata": {},
   "outputs": [
    {
     "ename": "RuntimeError",
     "evalue": "CUDA out of memory. Tried to allocate 250.00 MiB (GPU 0; 7.80 GiB total capacity; 7.00 GiB already allocated; 34.44 MiB free; 7.11 GiB reserved in total by PyTorch) If reserved memory is >> allocated memory try setting max_split_size_mb to avoid fragmentation.  See documentation for Memory Management and PYTORCH_CUDA_ALLOC_CONF",
     "output_type": "error",
     "traceback": [
      "\u001b[0;31m---------------------------------------------------------------------------\u001b[0m",
      "\u001b[0;31mRuntimeError\u001b[0m                              Traceback (most recent call last)",
      "\u001b[1;32m/home/francesco/Documents/university/6/ml/MS-STA/src/model/lsh.ipynb Cell 4\u001b[0m in \u001b[0;36m<cell line: 1>\u001b[0;34m()\u001b[0m\n\u001b[0;32m----> <a href='vscode-notebook-cell:/home/francesco/Documents/university/6/ml/MS-STA/src/model/lsh.ipynb#ch0000003?line=0'>1</a>\u001b[0m x \u001b[39m=\u001b[39m torch\u001b[39m.\u001b[39;49mrandn(\u001b[39m64\u001b[39;49m \u001b[39m*\u001b[39;49m \u001b[39m64\u001b[39;49m, \u001b[39m250\u001b[39;49m, \u001b[39m64\u001b[39;49m)\u001b[39m.\u001b[39;49mcuda()\n\u001b[1;32m      <a href='vscode-notebook-cell:/home/francesco/Documents/university/6/ml/MS-STA/src/model/lsh.ipynb#ch0000003?line=1'>2</a>\u001b[0m y \u001b[39m=\u001b[39m x\n\u001b[1;32m      <a href='vscode-notebook-cell:/home/francesco/Documents/university/6/ml/MS-STA/src/model/lsh.ipynb#ch0000003?line=2'>3</a>\u001b[0m \u001b[39mwith\u001b[39;00m torch\u001b[39m.\u001b[39mcuda\u001b[39m.\u001b[39mamp\u001b[39m.\u001b[39mautocast():\n",
      "\u001b[0;31mRuntimeError\u001b[0m: CUDA out of memory. Tried to allocate 250.00 MiB (GPU 0; 7.80 GiB total capacity; 7.00 GiB already allocated; 34.44 MiB free; 7.11 GiB reserved in total by PyTorch) If reserved memory is >> allocated memory try setting max_split_size_mb to avoid fragmentation.  See documentation for Memory Management and PYTORCH_CUDA_ALLOC_CONF"
     ]
    }
   ],
   "source": [
    "x = torch.randn(64 * 64, 250, 64).cuda()\n",
    "y = x\n",
    "with torch.cuda.amp.autocast():\n",
    "    for layer in layers:\n",
    "        y = layer(y)\n",
    "\n",
    "y.shape"
   ]
  },
  {
   "cell_type": "code",
   "execution_count": 6,
   "metadata": {},
   "outputs": [
    {
     "name": "stdout",
     "output_type": "stream",
     "text": [
      "tensor(-0.0007, device='cuda:0')  -  tensor(1.0001, device='cuda:0')\n",
      "tensor(0.0074, device='cuda:0', grad_fn=<MeanBackward0>)  -  tensor(0.0767, device='cuda:0', grad_fn=<StdBackward0>)\n"
     ]
    }
   ],
   "source": [
    "print(x.mean(), ' - ', x.std())\n",
    "print(y.mean(), ' - ', y.std())"
   ]
  },
  {
   "cell_type": "code",
   "execution_count": 5,
   "metadata": {},
   "outputs": [
    {
     "ename": "",
     "evalue": "",
     "output_type": "error",
     "traceback": [
      "\u001b[1;31mThe Kernel crashed while executing code in the the current cell or a previous cell. Please review the code in the cell(s) to identify a possible cause of the failure. Click <a href='https://aka.ms/vscodeJupyterKernelCrash'>here</a> for more info. View Jupyter <a href='command:jupyter.viewOutput'>log</a> for further details."
     ]
    }
   ],
   "source": [
    "del x \n",
    "del y"
   ]
  }
 ],
 "metadata": {
  "kernelspec": {
   "display_name": "Python 3.10.4 ('mssta')",
   "language": "python",
   "name": "python3"
  },
  "language_info": {
   "codemirror_mode": {
    "name": "ipython",
    "version": 3
   },
   "file_extension": ".py",
   "mimetype": "text/x-python",
   "name": "python",
   "nbconvert_exporter": "python",
   "pygments_lexer": "ipython3",
   "version": "3.10.4"
  },
  "orig_nbformat": 4,
  "vscode": {
   "interpreter": {
    "hash": "f520dee79fcea0a8b9151e2cad8dcf467c9615add4ac29308a4247a01e8bd0e3"
   }
  }
 },
 "nbformat": 4,
 "nbformat_minor": 2
}
