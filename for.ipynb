{
 "cells": [
  {
   "cell_type": "code",
   "execution_count": null,
   "metadata": {},
   "outputs": [],
   "source": [
    "import torch\n",
    "from torch import nn\n",
    "import math"
   ]
  },
  {
   "cell_type": "code",
   "execution_count": 2,
   "metadata": {},
   "outputs": [],
   "source": [
    "x = torch.randn(32 * 64, 250, 64).cuda()\n",
    "y = (torch.arange(0, 32*64) % 64).cuda()\n",
    "loss_func = nn.CrossEntropyLoss().cuda()"
   ]
  },
  {
   "cell_type": "code",
   "execution_count": 3,
   "metadata": {},
   "outputs": [],
   "source": [
    "query = nn.Linear(64, 64).cuda()\n",
    "key = nn.Linear(64, 64).cuda()\n",
    "value = nn.Linear(64, 64).cuda()"
   ]
  },
  {
   "cell_type": "code",
   "execution_count": null,
   "metadata": {},
   "outputs": [],
   "source": [
    "for _ in range(9):\n",
    "    q = query(x)\n",
    "    k = key(x)\n",
    "    v = value(x)\n",
    "\n",
    "    attn = torch.matmul(q, k.transpose(-2, -1))\n",
    "    attn = attn / math.sqrt(64)\n",
    "    attn = nn.functional.softmax(attn, dim=-1)\n",
    "    out = torch.matmul(attn, v) \n",
    "    x = out\n",
    "\n",
    "logits = out.mean(1)\n",
    "loss = loss_func(logits, y)\n",
    "loss.backward()\n",
    "loss"
   ]
  },
  {
   "cell_type": "code",
   "execution_count": null,
   "metadata": {},
   "outputs": [],
   "source": [
    "for _ in range(9):\n",
    "    out = []\n",
    "    for idx in range(250):\n",
    "        x2 = x[:, idx:idx+1, :]\n",
    "        q = query(x2)\n",
    "        k = key(x)\n",
    "        v = value(x)\n",
    "    \n",
    "        attn = torch.matmul(q, k.transpose(-2, -1))\n",
    "        attn = attn / math.sqrt(64)\n",
    "        attn = nn.functional.softmax(attn, dim=-1)\n",
    "        tmp = torch.matmul(attn, v) \n",
    "        out.append(tmp)\n",
    "    \n",
    "    out = torch.cat(out, dim=1)\n",
    "\n",
    "logits = out.mean(1)\n",
    "loss = loss_func(logits, y)\n",
    "loss.backward()\n",
    "loss"
   ]
  }
 ],
 "metadata": {
  "kernelspec": {
   "display_name": "Python 3.10.4 ('mssta')",
   "language": "python",
   "name": "python3"
  },
  "language_info": {
   "codemirror_mode": {
    "name": "ipython",
    "version": 3
   },
   "file_extension": ".py",
   "mimetype": "text/x-python",
   "name": "python",
   "nbconvert_exporter": "python",
   "pygments_lexer": "ipython3",
   "version": "3.10.4"
  },
  "orig_nbformat": 4,
  "vscode": {
   "interpreter": {
    "hash": "f520dee79fcea0a8b9151e2cad8dcf467c9615add4ac29308a4247a01e8bd0e3"
   }
  }
 },
 "nbformat": 4,
 "nbformat_minor": 2
}
